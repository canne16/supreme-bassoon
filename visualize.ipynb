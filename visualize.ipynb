{
 "cells": [
  {
   "cell_type": "code",
   "execution_count": 1,
   "metadata": {},
   "outputs": [],
   "source": [
    "import matplotlib.pyplot as plt\n",
    "import numpy as np\n",
    "\n",
    "from methods import node_wise_interpolation"
   ]
  },
  {
   "cell_type": "code",
   "execution_count": 43,
   "metadata": {},
   "outputs": [],
   "source": [
    "num_donors = 5\n",
    "num_targets = 5\n",
    "x_low = 0\n",
    "x_high = 10\n",
    "\n",
    "donor_x = np.linspace(x_low, x_high, num_donors)\n",
    "donor_values = np.random.uniform(x_low, x_high, num_donors)\n",
    "donor_mesh = np.array([donor_x, donor_values], dtype=np.float32)\n",
    "\n",
    "target_x = np.random.uniform(x_low, x_high, num_targets)\n",
    "target_values = np.zeros_like(target_x)\n",
    "target_mesh = np.array([target_x, target_values], dtype=np.float32)"
   ]
  },
  {
   "cell_type": "code",
   "execution_count": null,
   "metadata": {},
   "outputs": [],
   "source": [
    "func_basis = []"
   ]
  },
  {
   "cell_type": "code",
   "execution_count": null,
   "metadata": {},
   "outputs": [],
   "source": [
    "result_mesh = node_wise_interpolation(donor_mesh, func_basis, target_x)"
   ]
  }
 ],
 "metadata": {
  "kernelspec": {
   "display_name": "Python 3",
   "language": "python",
   "name": "python3"
  },
  "language_info": {
   "codemirror_mode": {
    "name": "ipython",
    "version": 3
   },
   "file_extension": ".py",
   "mimetype": "text/x-python",
   "name": "python",
   "nbconvert_exporter": "python",
   "pygments_lexer": "ipython3",
   "version": "3.11.9"
  }
 },
 "nbformat": 4,
 "nbformat_minor": 2
}
